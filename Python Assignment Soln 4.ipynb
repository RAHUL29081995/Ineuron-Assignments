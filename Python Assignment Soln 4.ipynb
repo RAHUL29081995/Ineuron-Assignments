{
 "cells": [
  {
   "cell_type": "markdown",
   "metadata": {},
   "source": [
    "# Python Assignment 4\n"
   ]
  },
  {
   "cell_type": "raw",
   "metadata": {},
   "source": [
    "1.1 Write a Python Program(with class concepts) to find the area of the triangle using the below\n",
    "formula.\n",
    "area = (s*(s-a)*(s-b)*(s-c)) ** 0.5\n",
    "Function to take the length of the sides of triangle from user should be defined in the parent\n",
    "class and function to calculate the area should be defined in subclass."
   ]
  },
  {
   "cell_type": "code",
   "execution_count": 5,
   "metadata": {},
   "outputs": [
    {
     "name": "stdout",
     "output_type": "stream",
     "text": [
      "enter the first side of triangle 3\n",
      "enter the second side of triangle 4\n",
      "enter the third side of triangle 5\n"
     ]
    },
    {
     "data": {
      "text/plain": [
       "6.0"
      ]
     },
     "execution_count": 5,
     "metadata": {},
     "output_type": "execute_result"
    }
   ],
   "source": [
    "class Triangle():\n",
    "    def __init__(self):\n",
    "        self.a = int(input(\"enter the first side of triangle \"))\n",
    "        self.b = int(input(\"enter the second side of triangle \"))\n",
    "        self.c = int(input(\"enter the third side of triangle \"))\n",
    "    def area(self):\n",
    "        s = (self.a+self.b+self.c) /2\n",
    "        A = (s*(s-self.a)*(s-self.b)*(s-self.c)) ** 0.5\n",
    "        return A\n",
    "obj = Triangle()\n",
    "obj.area()"
   ]
  },
  {
   "cell_type": "raw",
   "metadata": {},
   "source": [
    "1.2 Write a function filter_long_words() that takes a list of words and an integer n and returns\n",
    "the list of words that are longer than n."
   ]
  },
  {
   "cell_type": "code",
   "execution_count": 12,
   "metadata": {},
   "outputs": [
    {
     "data": {
      "text/plain": [
       "['bcdfg', 'cerrt', 'ddfbbb']"
      ]
     },
     "execution_count": 12,
     "metadata": {},
     "output_type": "execute_result"
    }
   ],
   "source": [
    "l = ['abc','bcdfg','cerrt','ddfbbb']\n",
    "l1 = []\n",
    "n = 3\n",
    "def filter_long_words(l,n):\n",
    "    for i in range(len(l)):\n",
    "        if len(l[i])>n:\n",
    "            l1.append(l[i])\n",
    "    return l1\n",
    "            \n",
    "filter_long_words(l,n)"
   ]
  },
  {
   "cell_type": "raw",
   "metadata": {},
   "source": [
    "2.1 Write a Python program using function concept that maps list of words into a list of integers\n",
    "representing the lengths of the corresponding words.\n",
    "Hint: If a list [ ab,cde,erty] is passed on to the python function output should come as [2,3,4]\n",
    "Here 2,3 and 4 are the lengths of the words in the list."
   ]
  },
  {
   "cell_type": "code",
   "execution_count": 1,
   "metadata": {},
   "outputs": [
    {
     "name": "stdout",
     "output_type": "stream",
     "text": [
      "[2, 3, 4, 4, 5]\n"
     ]
    }
   ],
   "source": [
    "l = ['ad','dfg','wert','bnvx','ervgf']\n",
    "def convert(l):\n",
    "    l1 = []\n",
    "    for i in l:\n",
    "        l1.append(len(i))\n",
    "    return l1\n",
    "l2 = convert(l)\n",
    "print(l2)"
   ]
  },
  {
   "cell_type": "raw",
   "metadata": {},
   "source": [
    "2.2 Write a Python function which takes a character (i.e. a string of length 1) and returns True if\n",
    "it is a vowel, False otherwise."
   ]
  },
  {
   "cell_type": "code",
   "execution_count": 5,
   "metadata": {},
   "outputs": [
    {
     "name": "stdout",
     "output_type": "stream",
     "text": [
      "enter a char s\n",
      "False\n"
     ]
    }
   ],
   "source": [
    "def vowel(a):\n",
    "    l1 = ['a','e','i','o','u']\n",
    "    if a.lower() in l1:\n",
    "        return True\n",
    "    else:\n",
    "        return False\n",
    "    \n",
    "    \n",
    "a = input(\"enter a char \")\n",
    "result = vowel(a)\n",
    "print(result)"
   ]
  },
  {
   "cell_type": "code",
   "execution_count": null,
   "metadata": {},
   "outputs": [],
   "source": []
  }
 ],
 "metadata": {
  "kernelspec": {
   "display_name": "Python 3",
   "language": "python",
   "name": "python3"
  },
  "language_info": {
   "codemirror_mode": {
    "name": "ipython",
    "version": 3
   },
   "file_extension": ".py",
   "mimetype": "text/x-python",
   "name": "python",
   "nbconvert_exporter": "python",
   "pygments_lexer": "ipython3",
   "version": "3.8.3"
  }
 },
 "nbformat": 4,
 "nbformat_minor": 4
}
